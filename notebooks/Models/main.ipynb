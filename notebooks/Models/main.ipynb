{
 "cells": [
  {
   "cell_type": "code",
   "execution_count": 1,
   "metadata": {},
   "outputs": [],
   "source": [
    "from utils.consts import *\n",
    "\n",
    "from utils.utilities import (\n",
    "    get_json_data, get_subjs, get_agg_input_vector,\n",
    "    get_where_cond_val, get_cond_op_input_vector)\n",
    "\n",
    "# from agg_predict import predict_agg\n",
    "from op_predict import predict_cond_op\n",
    "\n",
    "import pickle\n",
    "import json\n",
    "from pprint import pprint\n",
    "import tensorflow as tf\n",
    "import numpy as np"
   ]
  },
  {
   "cell_type": "code",
   "execution_count": 2,
   "metadata": {},
   "outputs": [],
   "source": [
    "import spacy\n",
    "PIPE = spacy.load('en_core_web_lg')\n",
    "# PIPE = spacy.load('en_coref_lg')"
   ]
  },
  {
   "cell_type": "code",
   "execution_count": 3,
   "metadata": {},
   "outputs": [],
   "source": [
    "def process_question(question):\n",
    "    doc = PIPE(question)\n",
    "    subjs = get_subjs(doc)\n",
    "    sel_col = subjs[0]\n",
    "    X_agg = get_agg_input_vector(subjs[0], doc)\n",
    "    \n",
    "    cond_val = get_where_cond_val(doc)\n",
    "    print(\"COND VAL : \", cond_val)\n",
    "    X_cond_op = get_cond_op_input_vector(doc)\n",
    "    return (X_agg, X_cond_op)"
   ]
  },
  {
   "cell_type": "code",
   "execution_count": 4,
   "metadata": {},
   "outputs": [],
   "source": [
    "data = get_json_data('./data_with_num/dev_dataset.json')"
   ]
  },
  {
   "cell_type": "code",
   "execution_count": 10,
   "metadata": {},
   "outputs": [],
   "source": [
    "q1 = data[0]['question']"
   ]
  },
  {
   "cell_type": "code",
   "execution_count": 11,
   "metadata": {},
   "outputs": [
    {
     "data": {
      "text/plain": [
       "'How many schools did player number 3 play at?'"
      ]
     },
     "execution_count": 11,
     "metadata": {},
     "output_type": "execute_result"
    }
   ],
   "source": [
    "q1"
   ]
  },
  {
   "cell_type": "code",
   "execution_count": 12,
   "metadata": {},
   "outputs": [
    {
     "name": "stdout",
     "output_type": "stream",
     "text": [
      "COND VAL :  3\n"
     ]
    }
   ],
   "source": [
    "(q1_agg, q1_op) = process_question(q1)"
   ]
  },
  {
   "cell_type": "code",
   "execution_count": 13,
   "metadata": {},
   "outputs": [
    {
     "data": {
      "text/plain": [
       "1200"
      ]
     },
     "execution_count": 13,
     "metadata": {},
     "output_type": "execute_result"
    }
   ],
   "source": [
    "len(q1_op)"
   ]
  },
  {
   "cell_type": "code",
   "execution_count": null,
   "metadata": {},
   "outputs": [],
   "source": [
    "predict_cond_op(q1_op)"
   ]
  },
  {
   "cell_type": "code",
   "execution_count": null,
   "metadata": {},
   "outputs": [],
   "source": [
    "predict_cond_op(q1_op)"
   ]
  },
  {
   "cell_type": "code",
   "execution_count": 8,
   "metadata": {},
   "outputs": [],
   "source": [
    "def predict_op(cond_op_X):\n",
    "    n_input = 1200\n",
    "    n_hidden1 = 512\n",
    "    n_hidden2 = 256\n",
    "    n_hidden3 = 64\n",
    "    n_output = 4\n",
    "\n",
    "    learning_rate = 1e-4\n",
    "    n_iteration = 31\n",
    "    batch_size = 128\n",
    "\n",
    "\n",
    "    X = tf.placeholder(\"float\", [None, n_input])\n",
    "    Y = tf.placeholder(\"float\", [None, n_output])\n",
    "    # keep_prob = tf.placeholder(tf.float32) # used to control the dropout rate\n",
    "\n",
    "    weights = {\n",
    "    'w1': tf.Variable(tf.truncated_normal([n_input, n_hidden1], stddev=0.1)),\n",
    "    'w2': tf.Variable(tf.truncated_normal([n_hidden1, n_hidden2], stddev=0.1)),\n",
    "    'w3': tf.Variable(tf.truncated_normal([n_hidden2, n_hidden3], stddev=0.1)),\n",
    "    'out': tf.Variable(tf.truncated_normal([n_hidden3, n_output], stddev=0.1))\n",
    "    }\n",
    "\n",
    "    biases = {\n",
    "    'b1': tf.Variable(tf.constant(0.1, shape=[n_hidden1])),\n",
    "    'b2': tf.Variable(tf.constant(0.1, shape=[n_hidden2])),\n",
    "    'b3': tf.Variable(tf.constant(0.1, shape=[n_hidden3])),\n",
    "    'out': tf.Variable(tf.constant(0.1, shape=[n_output]))\n",
    "    }\n",
    "\n",
    "    layer_1 = tf.nn.tanh(tf.add(tf.matmul(X, weights['w1']), biases['b1']))\n",
    "    layer_2 = tf.nn.tanh(tf.add(tf.matmul(layer_1, weights['w2']), biases['b2']))\n",
    "    layer_3 = tf.nn.relu(tf.add(tf.matmul(layer_2, weights['w3']), biases['b3']))\n",
    "    # layer_drop = tf.nn.dropout(layer_3, keep_prob)\n",
    "    output_layer = tf.nn.leaky_relu(tf.add(tf.matmul(layer_3, weights['out']), biases['out']))\n",
    "\n",
    "    cross_entropy = tf.reduce_mean(tf.nn.softmax_cross_entropy_with_logits_v2(labels=Y, logits=output_layer))\n",
    "    train_step = tf.train.AdamOptimizer(learning_rate).minimize(cross_entropy)\n",
    "\n",
    "    correct_pred = tf.equal(tf.argmax(output_layer, 1), tf.argmax(Y, 1))\n",
    "    accuracy = tf.reduce_mean(tf.cast(correct_pred, tf.float32))\n",
    "\n",
    "    init = tf.global_variables_initializer()\n",
    "    sess = tf.Session()\n",
    "    sess.run(init)\n",
    "\n",
    "    tf.train.Saver().restore(sess, './checkpoints/op/training.ckpt')\n",
    "    prediction = sess.run(tf.argmax(output_layer,1), feed_dict={X: [cond_op_X]})\n",
    "    return int(np.squeeze(prediction))"
   ]
  },
  {
   "cell_type": "code",
   "execution_count": 11,
   "metadata": {},
   "outputs": [
    {
     "name": "stdout",
     "output_type": "stream",
     "text": [
      "INFO:tensorflow:Restoring parameters from ./checkpoints/agg/training.ckpt\n"
     ]
    },
    {
     "data": {
      "text/plain": [
       "2"
      ]
     },
     "execution_count": 11,
     "metadata": {},
     "output_type": "execute_result"
    }
   ],
   "source": [
    "predict_agg(q1_x)"
   ]
  },
  {
   "cell_type": "code",
   "execution_count": null,
   "metadata": {},
   "outputs": [],
   "source": []
  },
  {
   "cell_type": "markdown",
   "metadata": {},
   "source": [
    "import tensorflow as tf\n",
    "import numpy as np\n",
    "import pickle\n",
    "class AggNN():\n",
    "    def __init__(self):\n",
    "        n_input = 1500\n",
    "        n_hidden1 = 1024\n",
    "        n_hidden2 = 512\n",
    "        n_hidden3 = 64\n",
    "        n_output = 6\n",
    "        \n",
    "        self.learning_rate = 1e-4\n",
    "        self.n_iteration = 101\n",
    "        self.batch_size = 128\n",
    "        \n",
    "        self.X = tf.placeholder(\"float\", [None, n_input])\n",
    "        self.Y = tf.placeholder(\"float\", [None, n_output])\n",
    "        \n",
    "        self.weights = {\n",
    "            'w1': tf.Variable(tf.truncated_normal([n_input, n_hidden1], stddev=0.1)),\n",
    "            'w2': tf.Variable(tf.truncated_normal([n_hidden1, n_hidden2], stddev=0.1)),\n",
    "            'w3': tf.Variable(tf.truncated_normal([n_hidden2, n_hidden3], stddev=0.1)),\n",
    "            'out': tf.Variable(tf.truncated_normal([n_hidden3, n_output], stddev=0.1))\n",
    "        }\n",
    "        \n",
    "        self.biases = {\n",
    "            'b1': tf.Variable(tf.constant(0.1, shape=[n_hidden1])),\n",
    "            'b2': tf.Variable(tf.constant(0.1, shape=[n_hidden2])),\n",
    "            'b3': tf.Variable(tf.constant(0.1, shape=[n_hidden3])),\n",
    "            'out': tf.Variable(tf.constant(0.1, shape=[n_output]))\n",
    "        }\n",
    "        \n",
    "        self.layer_1 = tf.nn.tanh(tf.add(tf.matmul(self.X, self.weights['w1']), self.biases['b1']))\n",
    "        self.layer_2 = tf.nn.tanh(tf.add(tf.matmul(self.layer_1, self.weights['w2']), self.biases['b2']))\n",
    "        self.layer_3 = tf.nn.relu(tf.add(tf.matmul(self.layer_2, self.weights['w3']), self.biases['b3']))\n",
    "        # layer_drop = tf.nn.dropout(layer_3, keep_prob)\n",
    "        self.output_layer = tf.nn.leaky_relu(tf.add(tf.matmul(self.layer_3, self.weights['out']), self.biases['out']))\n",
    "        \n",
    "        self.cross_entropy = tf.reduce_mean(tf.nn.softmax_cross_entropy_with_logits_v2(labels=self.Y, logits=self.output_layer))\n",
    "        self.train_step = tf.train.AdamOptimizer(self.learning_rate).minimize(self.cross_entropy)\n",
    "        \n",
    "        self.correct_pred = tf.equal(tf.argmax(self.output_layer, 1), tf.argmax(self.Y, 1))\n",
    "        self.accuracy = tf.reduce_mean(tf.cast(self.correct_pred, tf.float32))\n",
    "        \n",
    "        self.init = tf.global_variables_initializer()\n",
    "        self.sess = tf.Session()\n",
    "        self.sess.run(self.init)\n",
    "        \n",
    "        self.dev_X, self.dev_Y = self.get_data('dev')\n",
    "        self.n_batches = len(self.dev_X)//self.batch_size\n",
    "        \n",
    "    def get_data(self, dt):\n",
    "        x_file = './data/agg_data/%s_agg_X.pkl'\n",
    "        y_file = './data/agg_data/%s_agg_Y.pkl'\n",
    "        with open(y_file%dt, 'rb') as fy:\n",
    "            _Y = pickle.load(fy)\n",
    "\n",
    "        with open(x_file%dt, 'rb') as fx:\n",
    "            _X = pickle.load(fx)\n",
    "        return (_X, _Y)\n",
    "    \n",
    "    def get_batch(self, idx, batch_size):\n",
    "        lw = idx * batch_size\n",
    "        hs = lw + batch_size\n",
    "        if hs < len(self.dev_X):\n",
    "            return (self.dev_X[lw:hs][:], self.dev_Y[lw:hs][:])\n",
    "        else:\n",
    "            return (self.dev_X[lw:][:], self.dev_Y[lw:][:])\n",
    "    \n",
    "    def load_param(self):\n",
    "        tf.train.Saver().restore(self.sess, './checkpoints/agg/training.ckpt')\n",
    "        \n",
    "    def store_param(self):\n",
    "        tf.train.Saver().save(self.sess, './checkpoints/agg/training.ckpt')\n",
    "        \n",
    "    def test(self):\n",
    "        test_X, test_Y = get_data('test')\n",
    "        test_accuracy = sess.run(self.accuracy, feed_dict={self.X: test_X, self.Y: test_Y})\n",
    "        print(\"\\nAccuracy on test set : \", test_accuracy)\n",
    "        \n",
    "    def train(self):\n",
    "        # train on mini batches\n",
    "        for i in range(self.n_iteration):\n",
    "            for j in range(self.n_batches+1):\n",
    "                (batch_x, batch_y) = self.get_batch(j, self.batch_size)\n",
    "                self.sess.run(self.train_step, feed_dict={self.X: batch_x, self.Y: batch_y})\n",
    "\n",
    "                # print loss and accuracy (per minibatch)\n",
    "            if i % 5 == 0:\n",
    "                minibatch_loss, minibatch_accuracy = \\\n",
    "                    self.sess.run([self.cross_entropy, self.accuracy], feed_dict={self.X: batch_x, self.Y: batch_y})\n",
    "                print(\"Iteration\", str(i), \"\\t| Loss =\", str(minibatch_loss), \"\\t| Accuracy =\", str(minibatch_accuracy))\n",
    "    \n",
    "    def predict(self, agg_X):\n",
    "        prediction = self.sess.run(tf.argmax(self.output_layer,1), feed_dict={self.X: [agg_X]})\n",
    "        return np.squeeze(prediction)"
   ]
  },
  {
   "cell_type": "code",
   "execution_count": 15,
   "metadata": {},
   "outputs": [],
   "source": [
    "agg_nn = AggNN()"
   ]
  },
  {
   "cell_type": "code",
   "execution_count": null,
   "metadata": {},
   "outputs": [],
   "source": [
    "agg_nn.load_param()"
   ]
  },
  {
   "cell_type": "code",
   "execution_count": null,
   "metadata": {},
   "outputs": [],
   "source": []
  }
 ],
 "metadata": {
  "kernelspec": {
   "display_name": "tf_nlp",
   "language": "python",
   "name": "tf_nlp"
  },
  "language_info": {
   "codemirror_mode": {
    "name": "ipython",
    "version": 3
   },
   "file_extension": ".py",
   "mimetype": "text/x-python",
   "name": "python",
   "nbconvert_exporter": "python",
   "pygments_lexer": "ipython3",
   "version": "3.6.8"
  }
 },
 "nbformat": 4,
 "nbformat_minor": 2
}
