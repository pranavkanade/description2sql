{
 "cells": [
  {
   "cell_type": "code",
   "execution_count": 1,
   "metadata": {},
   "outputs": [],
   "source": [
    "from utils.consts import *\n",
    "\n",
    "from utils.utilities import (\n",
    "    test, show_dep, get_data, get_nominal_subjects, get_prep, get_objects, get_root, _is_verb, get_aux,\n",
    "    check_if_wh, get_csubj, get_amod, get_actual_subtree_for_finding_agg, get_subtree_list)\n",
    "\n",
    "import pickle\n",
    "import json\n",
    "import random\n",
    "import json\n",
    "from IPython.display import Markdown, display\n",
    "from pprint import pprint\n",
    "import numpy as np\n",
    "\n",
    "import spacy\n",
    "PIPE = spacy.load('en_coref_lg')"
   ]
  },
  {
   "cell_type": "code",
   "execution_count": 6,
   "metadata": {},
   "outputs": [],
   "source": [
    "data_file = \"./data_with_num/train_dataset.json\"\n",
    "data = get_data(data_file)"
   ]
  },
  {
   "cell_type": "code",
   "execution_count": 7,
   "metadata": {},
   "outputs": [
    {
     "data": {
      "text/plain": [
       "34497"
      ]
     },
     "execution_count": 7,
     "metadata": {},
     "output_type": "execute_result"
    }
   ],
   "source": [
    "len(data)"
   ]
  },
  {
   "cell_type": "code",
   "execution_count": 5,
   "metadata": {},
   "outputs": [
    {
     "data": {
      "text/plain": [
       "{'phase': 1,\n",
       " 'table_id': '1-10015132-11',\n",
       " 'question': 'How many schools did player number 3 play at?',\n",
       " 'sql': {'sel': 'School/Club Team',\n",
       "  'conds': [['No.', '=', '3']],\n",
       "  'agg': 'COUNT'},\n",
       " 'header': ['Player',\n",
       "  'No.',\n",
       "  'Nationality',\n",
       "  'Position',\n",
       "  'Years in Toronto',\n",
       "  'School/Club Team']}"
      ]
     },
     "execution_count": 5,
     "metadata": {},
     "output_type": "execute_result"
    }
   ],
   "source": [
    "data[0]"
   ]
  },
  {
   "cell_type": "code",
   "execution_count": 9,
   "metadata": {},
   "outputs": [],
   "source": [
    "def get_num(each_data):\n",
    "    doc = PIPE(each_data['question'])\n",
    "    candidates = list()\n",
    "    for child in doc:\n",
    "        if child.pos_ in [\"NUM\"]:\n",
    "            candidates.append(child)\n",
    "    return candidates"
   ]
  },
  {
   "cell_type": "code",
   "execution_count": 15,
   "metadata": {},
   "outputs": [
    {
     "name": "stdout",
     "output_type": "stream",
     "text": [
      "[2011]\n",
      "[310, 329, 20]\n",
      "[1998]\n",
      "[468, 473, 6]\n",
      "[2000]\n",
      "[6]\n",
      "[2012-present]\n",
      "[2010, 2012]\n",
      "[1995, 96]\n",
      "[2001, 02]\n"
     ]
    }
   ],
   "source": [
    "for each_data in data[:10]:\n",
    "    print(get_num(each_data))"
   ]
  },
  {
   "cell_type": "code",
   "execution_count": 16,
   "metadata": {},
   "outputs": [
    {
     "data": {
      "text/plain": [
       "{'phase': 1,\n",
       " 'table_id': '1-10015132-1',\n",
       " 'question': 'What school did the player that has been in Toronto from 2010-2012 go to?',\n",
       " 'sql': {'sel': 'School/Club Team',\n",
       "  'conds': [['Years in Toronto', '=', '2010-2012']],\n",
       "  'agg': ''},\n",
       " 'header': ['Player',\n",
       "  'No.',\n",
       "  'Nationality',\n",
       "  'Position',\n",
       "  'Years in Toronto',\n",
       "  'School/Club Team']}"
      ]
     },
     "execution_count": 16,
     "metadata": {},
     "output_type": "execute_result"
    }
   ],
   "source": [
    "data[7]"
   ]
  },
  {
   "cell_type": "code",
   "execution_count": null,
   "metadata": {},
   "outputs": [],
   "source": []
  }
 ],
 "metadata": {
  "kernelspec": {
   "display_name": "nlp",
   "language": "python",
   "name": "nlp"
  },
  "language_info": {
   "codemirror_mode": {
    "name": "ipython",
    "version": 3
   },
   "file_extension": ".py",
   "mimetype": "text/x-python",
   "name": "python",
   "nbconvert_exporter": "python",
   "pygments_lexer": "ipython3",
   "version": "3.6.5"
  }
 },
 "nbformat": 4,
 "nbformat_minor": 2
}
