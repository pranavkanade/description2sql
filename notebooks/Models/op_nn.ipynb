{
 "cells": [
  {
   "cell_type": "code",
   "execution_count": 1,
   "metadata": {},
   "outputs": [],
   "source": [
    "import tensorflow as tf\n",
    "# from tensorflow.examples.tutorials.mnist import input_data\n",
    "# mnist = input_data.read_data_sets(\"MNIST_data/\", one_hot=True)"
   ]
  },
  {
   "cell_type": "code",
   "execution_count": 2,
   "metadata": {},
   "outputs": [],
   "source": [
    "import numpy as np\n",
    "import pickle"
   ]
  },
  {
   "cell_type": "code",
   "execution_count": 3,
   "metadata": {},
   "outputs": [],
   "source": [
    "data_files = ['dev', 'test', 'train']\n",
    "\n",
    "data_path = \"./data/%s_dataset.json\"\n",
    "x_file = './data/op_data/%s_op_X.pkl'\n",
    "y_file = './data/op_data/%s_op_Y.pkl'\n",
    "idx_file = './data/op_data/%s_op_idx.pkl'"
   ]
  },
  {
   "cell_type": "code",
   "execution_count": 4,
   "metadata": {},
   "outputs": [],
   "source": [
    "op_n_input = 1200\n",
    "op_n_hidden1 = 512\n",
    "op_n_hidden2 = 256\n",
    "op_n_hidden3 = 64\n",
    "op_n_output = 4\n",
    "\n",
    "op_learning_rate = 1e-4\n",
    "op_n_iteration = 31\n",
    "op_batch_size = 128\n",
    "op_dropout = 0.1\n",
    "\n",
    "op_X = tf.placeholder(\"float\", [None, op_n_input])\n",
    "op_Y = tf.placeholder(\"float\", [None, op_n_output])\n",
    "# keep_prob = tf.placeholder(tf.float32) # used to control the dropout rate\n",
    "\n",
    "op_weights = {\n",
    "    'w1': tf.Variable(tf.truncated_normal([op_n_input, op_n_hidden1], stddev=0.1)),\n",
    "    'w2': tf.Variable(tf.truncated_normal([op_n_hidden1, op_n_hidden2], stddev=0.1)),\n",
    "    'w3': tf.Variable(tf.truncated_normal([op_n_hidden2, op_n_hidden3], stddev=0.1)),\n",
    "    'out': tf.Variable(tf.truncated_normal([op_n_hidden3, op_n_output], stddev=0.1))\n",
    "}\n",
    "\n",
    "op_biases = {\n",
    "    'b1': tf.Variable(tf.constant(0.1, shape=[op_n_hidden1])),\n",
    "    'b2': tf.Variable(tf.constant(0.1, shape=[op_n_hidden2])),\n",
    "    'b3': tf.Variable(tf.constant(0.1, shape=[op_n_hidden3])),\n",
    "    'out': tf.Variable(tf.constant(0.1, shape=[op_n_output]))\n",
    "}\n",
    "\n",
    "op_layer_1 = tf.nn.tanh(tf.add(tf.matmul(op_X, op_weights['w1']), op_biases['b1']))\n",
    "op_layer_2 = tf.nn.tanh(tf.add(tf.matmul(op_layer_1, op_weights['w2']), op_biases['b2']))\n",
    "op_layer_3 = tf.nn.relu(tf.add(tf.matmul(op_layer_2, op_weights['w3']), op_biases['b3']))\n",
    "# layer_drop = tf.nn.dropout(layer_3, keep_prob)\n",
    "op_output_layer = tf.nn.leaky_relu(tf.add(tf.matmul(op_layer_3, op_weights['out']), op_biases['out']))\n",
    "\n",
    "op_cross_entropy = tf.reduce_mean(tf.nn.softmax_cross_entropy_with_logits_v2(labels=op_Y, logits=op_output_layer))\n",
    "op_train_step = tf.train.AdamOptimizer(op_learning_rate).minimize(op_cross_entropy)\n",
    "\n",
    "op_correct_pred = tf.equal(tf.argmax(op_output_layer, 1), tf.argmax(op_Y, 1))\n",
    "op_accuracy = tf.reduce_mean(tf.cast(op_correct_pred, tf.float32))\n",
    "\n",
    "op_init = tf.global_variables_initializer()\n",
    "op_sess = tf.Session()\n",
    "op_sess.run(op_init)"
   ]
  },
  {
   "cell_type": "code",
   "execution_count": 5,
   "metadata": {},
   "outputs": [],
   "source": [
    "def get_data(dt):\n",
    "    with open(y_file%dt, 'rb') as fy:\n",
    "        _Y = pickle.load(fy)\n",
    "\n",
    "    with open(x_file%dt, 'rb') as fx:\n",
    "        _X = pickle.load(fx)\n",
    "    return (_X, _Y)"
   ]
  },
  {
   "cell_type": "code",
   "execution_count": 6,
   "metadata": {},
   "outputs": [],
   "source": [
    "op_dev_X, op_dev_Y = get_data('train')"
   ]
  },
  {
   "cell_type": "code",
   "execution_count": 7,
   "metadata": {},
   "outputs": [],
   "source": [
    "def get_batch(idx, batch_size):\n",
    "    lw = idx * batch_size\n",
    "    hs = lw + batch_size\n",
    "    if hs < len(op_dev_X):\n",
    "        return (op_dev_X[lw:hs][:], op_dev_Y[lw:hs][:])\n",
    "    else:\n",
    "        return (op_dev_X[lw:][:], op_dev_Y[lw:][:])"
   ]
  },
  {
   "cell_type": "code",
   "execution_count": 8,
   "metadata": {},
   "outputs": [],
   "source": [
    "op_n_batches = len(op_dev_X)//op_batch_size"
   ]
  },
  {
   "cell_type": "code",
   "execution_count": 9,
   "metadata": {},
   "outputs": [
    {
     "data": {
      "text/plain": [
       "55499"
      ]
     },
     "execution_count": 9,
     "metadata": {},
     "output_type": "execute_result"
    }
   ],
   "source": [
    "len(op_dev_X)"
   ]
  },
  {
   "cell_type": "code",
   "execution_count": null,
   "metadata": {},
   "outputs": [],
   "source": []
  },
  {
   "cell_type": "code",
   "execution_count": 10,
   "metadata": {},
   "outputs": [
    {
     "name": "stdout",
     "output_type": "stream",
     "text": [
      "Iteration 0 \t| Batch 433 \t| Loss = 0.35148177 \t| Accuracy = 0.8933333\n",
      "Iteration 5 \t| Batch 433 \t| Loss = 0.24514925 \t| Accuracy = 0.93333334\n",
      "Iteration 10 \t| Batch 433 \t| Loss = 0.17745362 \t| Accuracy = 0.96\n",
      "Iteration 15 \t| Batch 433 \t| Loss = 0.14896502 \t| Accuracy = 0.96\n",
      "Iteration 20 \t| Batch 433 \t| Loss = 0.1355629 \t| Accuracy = 0.96\n",
      "Iteration 25 \t| Batch 433 \t| Loss = 0.12456276 \t| Accuracy = 0.96\n",
      "Iteration 30 \t| Batch 433 \t| Loss = 0.118668914 \t| Accuracy = 0.96\n"
     ]
    }
   ],
   "source": [
    "# train on mini batches\n",
    "for i in range(op_n_iteration):\n",
    "    for j in range(op_n_batches+1):\n",
    "        (op_batch_x, op_batch_y) = get_batch(j, op_batch_size)\n",
    "        op_sess.run(op_train_step, feed_dict={op_X: op_batch_x, op_Y: op_batch_y})\n",
    "        \n",
    "        # print loss and accuracy (per minibatch)\n",
    "    if i % 5 == 0:\n",
    "        op_minibatch_loss, op_minibatch_accuracy = op_sess.run([op_cross_entropy, op_accuracy], feed_dict={op_X: op_batch_x, op_Y: op_batch_y})\n",
    "        print(\"Iteration\", str(i), \"\\t| Batch\", str(j), \"\\t| Loss =\", str(op_minibatch_loss), \"\\t| Accuracy =\", str(op_minibatch_accuracy))"
   ]
  },
  {
   "cell_type": "code",
   "execution_count": 12,
   "metadata": {},
   "outputs": [
    {
     "data": {
      "text/plain": [
       "'./checkpoints/op/training.ckpt'"
      ]
     },
     "execution_count": 12,
     "metadata": {},
     "output_type": "execute_result"
    }
   ],
   "source": [
    "tf.train.Saver().save(op_sess, './checkpoints/op/training.ckpt')"
   ]
  },
  {
   "cell_type": "code",
   "execution_count": null,
   "metadata": {},
   "outputs": [],
   "source": [
    "test_X, test_Y = get_data('test')\n",
    "\n",
    "test_accuracy = sess.run(accuracy, feed_dict={X: test_X, Y: test_Y})\n",
    "print(\"\\nAccuracy on test set : \", test_accuracy)"
   ]
  },
  {
   "cell_type": "code",
   "execution_count": null,
   "metadata": {},
   "outputs": [],
   "source": []
  }
 ],
 "metadata": {
  "kernelspec": {
   "display_name": "tf_nlp",
   "language": "python",
   "name": "tf_nlp"
  },
  "language_info": {
   "codemirror_mode": {
    "name": "ipython",
    "version": 3
   },
   "file_extension": ".py",
   "mimetype": "text/x-python",
   "name": "python",
   "nbconvert_exporter": "python",
   "pygments_lexer": "ipython3",
   "version": "3.6.8"
  }
 },
 "nbformat": 4,
 "nbformat_minor": 2
}
