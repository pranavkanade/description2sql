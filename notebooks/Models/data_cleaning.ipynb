{
 "cells": [
  {
   "cell_type": "code",
   "execution_count": 2,
   "metadata": {},
   "outputs": [],
   "source": [
    "import spacy\n",
    "import json\n",
    "import random\n",
    "import json\n",
    "from IPython.display import Markdown, display\n",
    "from pprint import pprint"
   ]
  },
  {
   "cell_type": "code",
   "execution_count": 3,
   "metadata": {},
   "outputs": [],
   "source": [
    "# nlp_pipe = spacy.load('en_core_web_lg')\n",
    "\n",
    "nlp_pipe = spacy.load('en_coref_lg')"
   ]
  },
  {
   "cell_type": "code",
   "execution_count": 4,
   "metadata": {},
   "outputs": [],
   "source": [
    "def printmd(string, color=None):\n",
    "    colorstr = \"<span style='color:{}'>{}</span>\".format(color, string)\n",
    "    display(Markdown(colorstr))"
   ]
  },
  {
   "cell_type": "code",
   "execution_count": 5,
   "metadata": {},
   "outputs": [],
   "source": [
    "def show_dep(doc):\n",
    "    options = {'compact':False, 'collapse_punct':False, 'collapse_phrases':True}\n",
    "    spacy.displacy.render(doc, jupyter=True, style='dep')"
   ]
  },
  {
   "cell_type": "code",
   "execution_count": 6,
   "metadata": {},
   "outputs": [],
   "source": [
    "agg_ops = ['', 'MAX', 'MIN', 'COUNT', 'SUM', 'AVG']\n",
    "cond_ops = ['=', '>', '<', 'OP']\n",
    "syms = ['SELECT', 'WHERE', 'AND', 'COL', 'TABLE', 'CAPTION', 'PAGE', 'SECTION', 'OP', 'COND', 'QUESTION', 'AGG', 'AGGOPS', 'CONDOPS']"
   ]
  },
  {
   "cell_type": "code",
   "execution_count": null,
   "metadata": {},
   "outputs": [],
   "source": []
  },
  {
   "cell_type": "code",
   "execution_count": 42,
   "metadata": {},
   "outputs": [],
   "source": [
    "data_path_mapping = '/root/projects/description2sql/data/train.jsonl'\n",
    "data_path_tables = '/root/projects/description2sql/data/train.tables.jsonl'\n",
    "synthesized_dataset = './data/train_dataset.json'\n",
    "\n",
    "def get_data(path):\n",
    "    with open(path, 'r') as fp:\n",
    "        json_data = (list(map(json.loads, fp.readlines())))\n",
    "    return json_data"
   ]
  },
  {
   "cell_type": "code",
   "execution_count": 44,
   "metadata": {},
   "outputs": [],
   "source": [
    "mappings = get_data(data_path_mapping)\n",
    "tables = get_data(data_path_tables)"
   ]
  },
  {
   "cell_type": "code",
   "execution_count": 45,
   "metadata": {},
   "outputs": [],
   "source": [
    "table_id_to_headers = {tab['id']: tab['header'] for tab in tables}"
   ]
  },
  {
   "cell_type": "code",
   "execution_count": 46,
   "metadata": {},
   "outputs": [
    {
     "ename": "KeyError",
     "evalue": "'1-10015132-16'",
     "output_type": "error",
     "traceback": [
      "\u001b[0;31m---------------------------------------------------------------------------\u001b[0m",
      "\u001b[0;31mKeyError\u001b[0m                                  Traceback (most recent call last)",
      "\u001b[0;32m<ipython-input-46-12b7144b22df>\u001b[0m in \u001b[0;36m<module>\u001b[0;34m\u001b[0m\n\u001b[0;32m----> 1\u001b[0;31m \u001b[0mtable_id_to_headers\u001b[0m\u001b[0;34m[\u001b[0m\u001b[0;34m'1-10015132-16'\u001b[0m\u001b[0;34m]\u001b[0m\u001b[0;34m\u001b[0m\u001b[0;34m\u001b[0m\u001b[0m\n\u001b[0m",
      "\u001b[0;31mKeyError\u001b[0m: '1-10015132-16'"
     ]
    }
   ],
   "source": [
    "table_id_to_headers['1-10015132-16']"
   ]
  },
  {
   "cell_type": "code",
   "execution_count": 47,
   "metadata": {},
   "outputs": [],
   "source": [
    "# add headers to the mapping data\n",
    "for i in range(len(mappings)):\n",
    "    mappings[i]['header'] = table_id_to_headers[mappings[i]['table_id']]"
   ]
  },
  {
   "cell_type": "code",
   "execution_count": 48,
   "metadata": {},
   "outputs": [
    {
     "data": {
      "text/plain": [
       "{'phase': 1,\n",
       " 'table_id': '1-1000181-1',\n",
       " 'question': 'Tell me what the notes are for South Australia ',\n",
       " 'sql': {'sel': 5, 'conds': [[3, 0, 'SOUTH AUSTRALIA']], 'agg': 0},\n",
       " 'header': ['State/territory',\n",
       "  'Text/background colour',\n",
       "  'Format',\n",
       "  'Current slogan',\n",
       "  'Current series',\n",
       "  'Notes']}"
      ]
     },
     "execution_count": 48,
     "metadata": {},
     "output_type": "execute_result"
    }
   ],
   "source": [
    "mappings[0]"
   ]
  },
  {
   "cell_type": "code",
   "execution_count": 49,
   "metadata": {},
   "outputs": [
    {
     "name": "stdout",
     "output_type": "stream",
     "text": [
      "5\n",
      "0\n",
      "3\n"
     ]
    }
   ],
   "source": [
    "print(mappings[0]['sql']['sel'])\n",
    "print(mappings[0]['sql']['agg'])\n",
    "print(mappings[0]['sql']['conds'][0][0])"
   ]
  },
  {
   "cell_type": "code",
   "execution_count": 50,
   "metadata": {},
   "outputs": [],
   "source": [
    "# replace the indexes for select, conds and agg\n",
    "for i in range(len(mappings)):\n",
    "    mappings[i]['sql']['sel'] = mappings[i]['header'][mappings[i]['sql']['sel']]\n",
    "    for j in range(len(mappings[i]['sql']['conds'])):\n",
    "        mappings[i]['sql']['conds'][j][0] = mappings[i]['header'][mappings[i]['sql']['conds'][j][0]]\n",
    "        mappings[i]['sql']['conds'][j][1] = cond_ops[mappings[i]['sql']['conds'][j][1]]\n",
    "    mappings[i]['sql']['agg'] = agg_ops[mappings[i]['sql']['agg']]"
   ]
  },
  {
   "cell_type": "code",
   "execution_count": 51,
   "metadata": {},
   "outputs": [
    {
     "data": {
      "text/plain": [
       "{'phase': 1,\n",
       " 'table_id': '1-1000181-1',\n",
       " 'question': 'Tell me what the notes are for South Australia ',\n",
       " 'sql': {'sel': 'Notes',\n",
       "  'conds': [['Current slogan', '=', 'SOUTH AUSTRALIA']],\n",
       "  'agg': ''},\n",
       " 'header': ['State/territory',\n",
       "  'Text/background colour',\n",
       "  'Format',\n",
       "  'Current slogan',\n",
       "  'Current series',\n",
       "  'Notes']}"
      ]
     },
     "execution_count": 51,
     "metadata": {},
     "output_type": "execute_result"
    }
   ],
   "source": [
    "mappings[0]"
   ]
  },
  {
   "cell_type": "code",
   "execution_count": 52,
   "metadata": {},
   "outputs": [],
   "source": [
    "with open(synthesized_dataset, 'w') as fp:\n",
    "    json.dump(mappings, fp, )"
   ]
  },
  {
   "cell_type": "code",
   "execution_count": 53,
   "metadata": {},
   "outputs": [
    {
     "name": "stdout",
     "output_type": "stream",
     "text": [
      "[{'header': ['State/territory',\n",
      "             'Text/background colour',\n",
      "             'Format',\n",
      "             'Current slogan',\n",
      "             'Current series',\n",
      "             'Notes'],\n",
      "  'phase': 1,\n",
      "  'question': 'Tell me what the notes are for South Australia ',\n",
      "  'sql': {'agg': '',\n",
      "          'conds': [['Current slogan', '=', 'SOUTH AUSTRALIA']],\n",
      "          'sel': 'Notes'},\n",
      "  'table_id': '1-1000181-1'},\n",
      " {'header': ['State/territory',\n",
      "             'Text/background colour',\n",
      "             'Format',\n",
      "             'Current slogan',\n",
      "             'Current series',\n",
      "             'Notes'],\n",
      "  'phase': 1,\n",
      "  'question': 'What is the current series where the new series began in June '\n",
      "              '2011?',\n",
      "  'sql': {'agg': '',\n",
      "          'conds': [['Notes', '=', 'New series began in June 2011']],\n",
      "          'sel': 'Current series'},\n",
      "  'table_id': '1-1000181-1'},\n",
      " {'header': ['State/territory',\n",
      "             'Text/background colour',\n",
      "             'Format',\n",
      "             'Current slogan',\n",
      "             'Current series',\n",
      "             'Notes'],\n",
      "  'phase': 1,\n",
      "  'question': 'What is the format for South Australia?',\n",
      "  'sql': {'agg': '',\n",
      "          'conds': [['State/territory', '=', 'South Australia']],\n",
      "          'sel': 'Format'},\n",
      "  'table_id': '1-1000181-1'}]\n"
     ]
    }
   ],
   "source": [
    "pprint(mappings[:3])"
   ]
  },
  {
   "cell_type": "code",
   "execution_count": null,
   "metadata": {},
   "outputs": [],
   "source": []
  },
  {
   "cell_type": "code",
   "execution_count": 2,
   "metadata": {},
   "outputs": [],
   "source": [
    "import numpy"
   ]
  },
  {
   "cell_type": "code",
   "execution_count": 3,
   "metadata": {},
   "outputs": [
    {
     "data": {
      "text/plain": [
       "'1.16.0'"
      ]
     },
     "execution_count": 3,
     "metadata": {},
     "output_type": "execute_result"
    }
   ],
   "source": [
    "numpy.version.version"
   ]
  },
  {
   "cell_type": "code",
   "execution_count": 1,
   "metadata": {},
   "outputs": [
    {
     "data": {
      "text/plain": [
       "array([[0., 0., 0., 0., 0., 0.],\n",
       "       [0., 0., 0., 1., 0., 0.],\n",
       "       [0., 0., 0., 0., 0., 0.],\n",
       "       ...,\n",
       "       [0., 0., 0., 0., 0., 0.],\n",
       "       [0., 0., 0., 0., 0., 0.],\n",
       "       [0., 0., 0., 0., 0., 0.]])"
      ]
     },
     "execution_count": 1,
     "metadata": {},
     "output_type": "execute_result"
    }
   ],
   "source": [
    "import pickle\n",
    "with open('dev_agg_Y.pkl', 'rb') as fy:\n",
    "    tempy = pickle.load(fy)\n",
    "    \n",
    "tempy"
   ]
  },
  {
   "cell_type": "code",
   "execution_count": null,
   "metadata": {},
   "outputs": [],
   "source": []
  }
 ],
 "metadata": {
  "kernelspec": {
   "display_name": "nlp",
   "language": "python",
   "name": "nlp"
  },
  "language_info": {
   "codemirror_mode": {
    "name": "ipython",
    "version": 3
   },
   "file_extension": ".py",
   "mimetype": "text/x-python",
   "name": "python",
   "nbconvert_exporter": "python",
   "pygments_lexer": "ipython3",
   "version": "3.6.5"
  }
 },
 "nbformat": 4,
 "nbformat_minor": 2
}
