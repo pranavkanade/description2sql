{
 "cells": [
  {
   "cell_type": "code",
   "execution_count": 1,
   "metadata": {},
   "outputs": [
    {
     "name": "stdout",
     "output_type": "stream",
     "text": [
      "/root/installation/miniconda3/envs/tf_nlp/bin/python\n"
     ]
    }
   ],
   "source": [
    "!which python"
   ]
  },
  {
   "cell_type": "code",
   "execution_count": null,
   "metadata": {},
   "outputs": [],
   "source": [
    "import spacy"
   ]
  },
  {
   "cell_type": "code",
   "execution_count": 3,
   "metadata": {},
   "outputs": [
    {
     "name": "stdout",
     "output_type": "stream",
     "text": [
      "Requirement already satisfied: spacy in /root/installation/miniconda3/envs/tf_nlp/lib/python3.6/site-packages (2.0.18)\n",
      "Requirement already satisfied: cymem<2.1.0,>=2.0.2 in /root/installation/miniconda3/envs/tf_nlp/lib/python3.6/site-packages (from spacy) (2.0.2)\n",
      "Requirement already satisfied: regex==2018.01.10 in /root/installation/miniconda3/envs/tf_nlp/lib/python3.6/site-packages (from spacy) (2018.1.10)\n",
      "Requirement already satisfied: dill<0.3,>=0.2 in /root/installation/miniconda3/envs/tf_nlp/lib/python3.6/site-packages (from spacy) (0.2.9)\n",
      "Requirement already satisfied: preshed<2.1.0,>=2.0.1 in /root/installation/miniconda3/envs/tf_nlp/lib/python3.6/site-packages (from spacy) (2.0.1)\n",
      "Requirement already satisfied: plac<1.0.0,>=0.9.6 in /root/installation/miniconda3/envs/tf_nlp/lib/python3.6/site-packages (from spacy) (0.9.6)\n",
      "Requirement already satisfied: requests<3.0.0,>=2.13.0 in /root/installation/miniconda3/envs/tf_nlp/lib/python3.6/site-packages (from spacy) (2.21.0)\n",
      "Requirement already satisfied: thinc<6.13.0,>=6.12.1 in /root/installation/miniconda3/envs/tf_nlp/lib/python3.6/site-packages (from spacy) (6.12.1)\n",
      "Requirement already satisfied: ujson>=1.35 in /root/installation/miniconda3/envs/tf_nlp/lib/python3.6/site-packages (from spacy) (1.35)\n",
      "Requirement already satisfied: numpy>=1.15.0 in /root/installation/miniconda3/envs/tf_nlp/lib/python3.6/site-packages (from spacy) (1.16.1)\n",
      "Requirement already satisfied: murmurhash<1.1.0,>=0.28.0 in /root/installation/miniconda3/envs/tf_nlp/lib/python3.6/site-packages (from spacy) (1.0.1)\n",
      "Requirement already satisfied: chardet<3.1.0,>=3.0.2 in /root/installation/miniconda3/envs/tf_nlp/lib/python3.6/site-packages (from requests<3.0.0,>=2.13.0->spacy) (3.0.4)\n",
      "Requirement already satisfied: urllib3<1.25,>=1.21.1 in /root/installation/miniconda3/envs/tf_nlp/lib/python3.6/site-packages (from requests<3.0.0,>=2.13.0->spacy) (1.24.1)\n",
      "Requirement already satisfied: idna<2.9,>=2.5 in /root/installation/miniconda3/envs/tf_nlp/lib/python3.6/site-packages (from requests<3.0.0,>=2.13.0->spacy) (2.8)\n",
      "Requirement already satisfied: certifi>=2017.4.17 in /root/installation/miniconda3/envs/tf_nlp/lib/python3.6/site-packages (from requests<3.0.0,>=2.13.0->spacy) (2018.11.29)\n",
      "Requirement already satisfied: six<2.0.0,>=1.10.0 in /root/installation/miniconda3/envs/tf_nlp/lib/python3.6/site-packages (from thinc<6.13.0,>=6.12.1->spacy) (1.12.0)\n",
      "Requirement already satisfied: tqdm<5.0.0,>=4.10.0 in /root/installation/miniconda3/envs/tf_nlp/lib/python3.6/site-packages (from thinc<6.13.0,>=6.12.1->spacy) (4.31.1)\n",
      "Requirement already satisfied: wrapt<1.11.0,>=1.10.0 in /root/installation/miniconda3/envs/tf_nlp/lib/python3.6/site-packages (from thinc<6.13.0,>=6.12.1->spacy) (1.10.11)\n",
      "Requirement already satisfied: msgpack<0.6.0,>=0.5.6 in /root/installation/miniconda3/envs/tf_nlp/lib/python3.6/site-packages (from thinc<6.13.0,>=6.12.1->spacy) (0.5.6)\n",
      "Requirement already satisfied: msgpack-numpy<0.4.4 in /root/installation/miniconda3/envs/tf_nlp/lib/python3.6/site-packages (from thinc<6.13.0,>=6.12.1->spacy) (0.4.3.2)\n",
      "Requirement already satisfied: cytoolz<0.10,>=0.9.0 in /root/installation/miniconda3/envs/tf_nlp/lib/python3.6/site-packages (from thinc<6.13.0,>=6.12.1->spacy) (0.9.0.1)\n",
      "Requirement already satisfied: toolz>=0.8.0 in /root/installation/miniconda3/envs/tf_nlp/lib/python3.6/site-packages (from cytoolz<0.10,>=0.9.0->thinc<6.13.0,>=6.12.1->spacy) (0.9.0)\n"
     ]
    }
   ],
   "source": [
    "!pip install spacy"
   ]
  },
  {
   "cell_type": "code",
   "execution_count": null,
   "metadata": {},
   "outputs": [],
   "source": []
  }
 ],
 "metadata": {
  "kernelspec": {
   "display_name": "tf_nlp",
   "language": "python",
   "name": "tf_nlp"
  },
  "language_info": {
   "codemirror_mode": {
    "name": "ipython",
    "version": 3
   },
   "file_extension": ".py",
   "mimetype": "text/x-python",
   "name": "python",
   "nbconvert_exporter": "python",
   "pygments_lexer": "ipython3",
   "version": "3.6.5"
  }
 },
 "nbformat": 4,
 "nbformat_minor": 2
}
