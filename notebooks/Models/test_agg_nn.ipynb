{
 "cells": [
  {
   "cell_type": "code",
   "execution_count": 1,
   "metadata": {},
   "outputs": [
    {
     "name": "stdout",
     "output_type": "stream",
     "text": [
      "Iteration 0 \t| Batch 19 \t| Loss = 1.4062091 \t| Accuracy = 0.5205479\n",
      "Iteration 5 \t| Batch 19 \t| Loss = 0.38727227 \t| Accuracy = 0.89041096\n",
      "Iteration 10 \t| Batch 19 \t| Loss = 0.2682096 \t| Accuracy = 0.9315069\n",
      "Exporting model to :  /root/projects/description2sql/notebooks/Models/models/agg\n",
      "WARNING:tensorflow:From <ipython-input-1-65f594ae2654>:144: calling SavedModelBuilder.add_meta_graph_and_variables (from tensorflow.python.saved_model.builder_impl) with legacy_init_op is deprecated and will be removed in a future version.\n",
      "Instructions for updating:\n",
      "Pass your op to the equivalent parameter main_op instead.\n",
      "INFO:tensorflow:No assets to save.\n",
      "INFO:tensorflow:No assets to write.\n",
      "INFO:tensorflow:SavedModel written to: /root/projects/description2sql/notebooks/Models/models/agg/1/saved_model.pb\n",
      "done exporting\n"
     ]
    },
    {
     "ename": "SystemExit",
     "evalue": "",
     "output_type": "error",
     "traceback": [
      "An exception has occurred, use %tb to see the full traceback.\n",
      "\u001b[0;31mSystemExit\u001b[0m\n"
     ]
    },
    {
     "name": "stderr",
     "output_type": "stream",
     "text": [
      "/root/installation/miniconda3/envs/tf_nlp/lib/python3.6/site-packages/IPython/core/interactiveshell.py:3275: UserWarning: To exit: use 'exit', 'quit', or Ctrl-D.\n",
      "  warn(\"To exit: use 'exit', 'quit', or Ctrl-D.\", stacklevel=1)\n"
     ]
    }
   ],
   "source": [
    "import os\n",
    "import sys\n",
    "import tensorflow as tf\n",
    "from tensorflow.python.saved_model import builder as saved_model_builder\n",
    "from tensorflow.python.saved_model import signature_constants, signature_def_utils, tag_constants, utils\n",
    "from tensorflow.python.util import compat\n",
    "import numpy as np\n",
    "import pickle\n",
    "\n",
    "from utils.consts import agg_ops\n",
    "\n",
    "## training flags\n",
    "tf.app.flags.DEFINE_integer('training_iteration', 101, 'number of training iterations.')\n",
    "tf.app.flags.DEFINE_integer('model_version', 1, 'version number of the model.')\n",
    "tf.app.flags.DEFINE_string('work_dir', '/tmp', 'Working directory.')\n",
    "\n",
    "FLAGS = tf.app.flags.FLAGS\n",
    "\n",
    "data_files = ['dev', 'test', 'train']\n",
    "\n",
    "data_path = \"./data/%s_dataset.json\"\n",
    "x_file = './data/agg_data/%s_agg_X.pkl'\n",
    "y_file = './data/agg_data/%s_agg_Y.pkl'\n",
    "idx_file = './data/op_data/%s_op_idx.pkl'\n",
    "\n",
    "def get_data(dt):\n",
    "    with open(y_file%dt, 'rb') as fy:\n",
    "        _Y = pickle.load(fy)\n",
    "\n",
    "    with open(x_file%dt, 'rb') as fx:\n",
    "        _X = pickle.load(fx)\n",
    "    return (_X, _Y)\n",
    "\n",
    "dev_X, dev_Y = get_data('dev')\n",
    "out_classes = np.array(agg_ops)\n",
    "\n",
    "def get_batch(idx, batch_size):\n",
    "    lw = idx * batch_size\n",
    "    hs = lw + batch_size\n",
    "    if hs < len(dev_X):\n",
    "        return (dev_X[lw:hs][:], dev_Y[lw:hs][:])\n",
    "    else:\n",
    "        return (dev_X[lw:][:], dev_Y[lw:][:])\n",
    "\n",
    "# def train():\n",
    "n_input = 1500\n",
    "n_hidden1 = 1024\n",
    "n_hidden2 = 512\n",
    "n_hidden3 = 64\n",
    "n_output = 6\n",
    "\n",
    "learning_rate = 1e-4\n",
    "n_iteration = 11\n",
    "batch_size = 128\n",
    "dropout = 0.1\n",
    "\n",
    "def main(_):\n",
    "    X = tf.placeholder(\"float\", [None, n_input])\n",
    "    Y = tf.placeholder(\"float\", [None, n_output])\n",
    "    # keep_prob = tf.placeholder(tf.float32) # used to control the dropout rate\n",
    "\n",
    "    weights = {\n",
    "    'w1': tf.Variable(tf.truncated_normal([n_input, n_hidden1], stddev=0.1)),\n",
    "    'w2': tf.Variable(tf.truncated_normal([n_hidden1, n_hidden2], stddev=0.1)),\n",
    "    'w3': tf.Variable(tf.truncated_normal([n_hidden2, n_hidden3], stddev=0.1)),\n",
    "    'out': tf.Variable(tf.truncated_normal([n_hidden3, n_output], stddev=0.1))\n",
    "    }\n",
    "\n",
    "    biases = {\n",
    "    'b1': tf.Variable(tf.constant(0.1, shape=[n_hidden1])),\n",
    "    'b2': tf.Variable(tf.constant(0.1, shape=[n_hidden2])),\n",
    "    'b3': tf.Variable(tf.constant(0.1, shape=[n_hidden3])),\n",
    "    'out': tf.Variable(tf.constant(0.1, shape=[n_output]))\n",
    "    }\n",
    "\n",
    "    layer_1 = tf.nn.tanh(tf.add(tf.matmul(X, weights['w1']), biases['b1']))\n",
    "    layer_2 = tf.nn.tanh(tf.add(tf.matmul(layer_1, weights['w2']), biases['b2']))\n",
    "    layer_3 = tf.nn.relu(tf.add(tf.matmul(layer_2, weights['w3']), biases['b3']))\n",
    "    # layer_drop = tf.nn.dropout(layer_3, keep_prob)\n",
    "    output_layer = tf.nn.leaky_relu(tf.add(tf.matmul(layer_3, weights['out']), biases['out']))\n",
    "\n",
    "    cross_entropy = tf.reduce_mean(tf.nn.softmax_cross_entropy_with_logits_v2(labels=Y, logits=output_layer))\n",
    "    train_step = tf.train.AdamOptimizer(learning_rate).minimize(cross_entropy)\n",
    "\n",
    "    correct_pred = tf.equal(tf.argmax(output_layer, 1), tf.argmax(Y, 1))\n",
    "    accuracy = tf.reduce_mean(tf.cast(correct_pred, tf.float32))\n",
    "\n",
    "    init = tf.global_variables_initializer()\n",
    "    sess = tf.Session()\n",
    "    sess.run(init)\n",
    "\n",
    "    n_batches = len(dev_X)//batch_size\n",
    "\n",
    "    # train on mini batches\n",
    "    for i in range(n_iteration):\n",
    "        for j in range(n_batches+1):\n",
    "            (batch_x, batch_y) = get_batch(j, batch_size)\n",
    "            sess.run(train_step, feed_dict={X: batch_x, Y: batch_y})\n",
    "\n",
    "            # print loss and accuracy (per minibatch)\n",
    "        if i % 5 == 0:\n",
    "            minibatch_loss, minibatch_accuracy = sess.run([cross_entropy, accuracy], feed_dict={X: batch_x, Y: batch_y})\n",
    "            print(\"Iteration\", str(i), \"\\t| Batch\", str(j), \"\\t| Loss =\", str(minibatch_loss), \"\\t| Accuracy =\", str(minibatch_accuracy))\n",
    "\n",
    "    ## save model\n",
    "    export_path_base = \"/root/projects/description2sql/notebooks/Models/models/agg\"\n",
    "    export_path = os.path.join(\n",
    "        compat.as_bytes(export_path_base),\n",
    "        compat.as_bytes(str(FLAGS.model_version))\n",
    "    )\n",
    "    print(\"Exporting model to : \", export_path_base)\n",
    "    \n",
    "    builder = saved_model_builder.SavedModelBuilder(export_path)\n",
    "    \n",
    "    classification_inputs = utils.build_tensor_info(tf.convert_to_tensor(dev_X))\n",
    "    classification_outputs_classes = utils.build_tensor_info(tf.convert_to_tensor(out_classes))\n",
    "    classification_outputs_scores = utils.build_tensor_info(tf.convert_to_tensor(dev_Y))\n",
    "    \n",
    "    classification_signature = signature_def_utils.build_signature_def(\n",
    "        inputs={signature_constants.CLASSIFY_INPUTS: classification_inputs},\n",
    "        outputs={signature_constants.CLASSIFY_OUTPUT_CLASSES: classification_outputs_classes,\n",
    "                 signature_constants.CLASSIFY_OUTPUT_SCORES: classification_outputs_scores},\n",
    "        method_name=signature_constants.CLASSIFY_METHOD_NAME\n",
    "    )\n",
    "    \n",
    "    tensor_info_x = utils.build_tensor_info(X)\n",
    "    tensor_info_y = utils.build_tensor_info(Y)\n",
    "    \n",
    "    prediction_signature = signature_def_utils.build_signature_def(\n",
    "        inputs={'images': tensor_info_x},\n",
    "        outputs={'scores': tensor_info_y},\n",
    "        method_name=signature_constants.PREDICT_METHOD_NAME)\n",
    "    \n",
    "    legacy_init_op = tf.group(tf.tables_initializer(), name='legacy_init_op')\n",
    "    \n",
    "    builder.add_meta_graph_and_variables(\n",
    "        sess, [tag_constants.SERVING],\n",
    "        signature_def_map={\n",
    "            'predict agg function':\n",
    "                prediction_signature,\n",
    "            signature_constants.DEFAULT_SERVING_SIGNATURE_DEF_KEY:\n",
    "                classification_signature,\n",
    "        },\n",
    "        legacy_init_op=legacy_init_op)\n",
    "    \n",
    "    builder.save()\n",
    "    print(\"done exporting\")\n",
    "    \n",
    "    \n",
    "if __name__ == '__main__':\n",
    "    tf.app.run()\n",
    "\n",
    "#     test_X, test_Y = get_data('test')\n",
    "#     test_accuracy = sess.run(accuracy, feed_dict={X: test_X, Y: test_Y})\n",
    "#     print(\"\\nAccuracy on test set : \", test_accuracy)"
   ]
  },
  {
   "cell_type": "code",
   "execution_count": 2,
   "metadata": {},
   "outputs": [
    {
     "ename": "SystemExit",
     "evalue": "",
     "output_type": "error",
     "traceback": [
      "\u001b[0;31m---------------------------------------------------------------------------\u001b[0m",
      "\u001b[0;31mSystemExit\u001b[0m                                Traceback (most recent call last)",
      "\u001b[0;32m<ipython-input-1-65f594ae2654>\u001b[0m in \u001b[0;36m<module>\u001b[0;34m\u001b[0m\n\u001b[1;32m    149\u001b[0m \u001b[0;34m\u001b[0m\u001b[0m\n\u001b[1;32m    150\u001b[0m \u001b[0;32mif\u001b[0m \u001b[0m__name__\u001b[0m \u001b[0;34m==\u001b[0m \u001b[0;34m'__main__'\u001b[0m\u001b[0;34m:\u001b[0m\u001b[0;34m\u001b[0m\u001b[0;34m\u001b[0m\u001b[0m\n\u001b[0;32m--> 151\u001b[0;31m     \u001b[0mtf\u001b[0m\u001b[0;34m.\u001b[0m\u001b[0mapp\u001b[0m\u001b[0;34m.\u001b[0m\u001b[0mrun\u001b[0m\u001b[0;34m(\u001b[0m\u001b[0;34m)\u001b[0m\u001b[0;34m\u001b[0m\u001b[0;34m\u001b[0m\u001b[0m\n\u001b[0m\u001b[1;32m    152\u001b[0m \u001b[0;34m\u001b[0m\u001b[0m\n\u001b[1;32m    153\u001b[0m \u001b[0;31m#     test_X, test_Y = get_data('test')\u001b[0m\u001b[0;34m\u001b[0m\u001b[0;34m\u001b[0m\u001b[0;34m\u001b[0m\u001b[0m\n",
      "\u001b[0;32m~/installation/miniconda3/envs/tf_nlp/lib/python3.6/site-packages/tensorflow/python/platform/app.py\u001b[0m in \u001b[0;36mrun\u001b[0;34m(main, argv)\u001b[0m\n\u001b[1;32m    123\u001b[0m   \u001b[0;31m# Call the main function, passing through any arguments\u001b[0m\u001b[0;34m\u001b[0m\u001b[0;34m\u001b[0m\u001b[0;34m\u001b[0m\u001b[0m\n\u001b[1;32m    124\u001b[0m   \u001b[0;31m# to the final program.\u001b[0m\u001b[0;34m\u001b[0m\u001b[0;34m\u001b[0m\u001b[0;34m\u001b[0m\u001b[0m\n\u001b[0;32m--> 125\u001b[0;31m   \u001b[0m_sys\u001b[0m\u001b[0;34m.\u001b[0m\u001b[0mexit\u001b[0m\u001b[0;34m(\u001b[0m\u001b[0mmain\u001b[0m\u001b[0;34m(\u001b[0m\u001b[0margv\u001b[0m\u001b[0;34m)\u001b[0m\u001b[0;34m)\u001b[0m\u001b[0;34m\u001b[0m\u001b[0;34m\u001b[0m\u001b[0m\n\u001b[0m\u001b[1;32m    126\u001b[0m \u001b[0;34m\u001b[0m\u001b[0m\n",
      "\u001b[0;31mSystemExit\u001b[0m: "
     ]
    }
   ],
   "source": [
    "%tb"
   ]
  },
  {
   "cell_type": "code",
   "execution_count": 7,
   "metadata": {},
   "outputs": [
    {
     "name": "stdout",
     "output_type": "stream",
     "text": [
      "load graph\n"
     ]
    },
    {
     "ename": "DecodeError",
     "evalue": "Error parsing message",
     "output_type": "error",
     "traceback": [
      "\u001b[0;31m---------------------------------------------------------------------------\u001b[0m",
      "\u001b[0;31mDecodeError\u001b[0m                               Traceback (most recent call last)",
      "\u001b[0;32m<ipython-input-7-dfe5de66537d>\u001b[0m in \u001b[0;36m<module>\u001b[0;34m\u001b[0m\n\u001b[1;32m      7\u001b[0m     \u001b[0;32mwith\u001b[0m \u001b[0mgfile\u001b[0m\u001b[0;34m.\u001b[0m\u001b[0mFastGFile\u001b[0m\u001b[0;34m(\u001b[0m\u001b[0mGRAPH_PB_PATH\u001b[0m\u001b[0;34m,\u001b[0m \u001b[0;34m'rb'\u001b[0m\u001b[0;34m)\u001b[0m \u001b[0;32mas\u001b[0m \u001b[0mf\u001b[0m\u001b[0;34m:\u001b[0m\u001b[0;34m\u001b[0m\u001b[0;34m\u001b[0m\u001b[0m\n\u001b[1;32m      8\u001b[0m         \u001b[0mgraph_def\u001b[0m \u001b[0;34m=\u001b[0m \u001b[0mtf\u001b[0m\u001b[0;34m.\u001b[0m\u001b[0mGraphDef\u001b[0m\u001b[0;34m(\u001b[0m\u001b[0;34m)\u001b[0m\u001b[0;34m\u001b[0m\u001b[0;34m\u001b[0m\u001b[0m\n\u001b[0;32m----> 9\u001b[0;31m     \u001b[0mgraph_def\u001b[0m\u001b[0;34m.\u001b[0m\u001b[0mParseFromString\u001b[0m\u001b[0;34m(\u001b[0m\u001b[0mf\u001b[0m\u001b[0;34m.\u001b[0m\u001b[0mread\u001b[0m\u001b[0;34m(\u001b[0m\u001b[0;34m)\u001b[0m\u001b[0;34m)\u001b[0m\u001b[0;34m\u001b[0m\u001b[0;34m\u001b[0m\u001b[0m\n\u001b[0m\u001b[1;32m     10\u001b[0m     \u001b[0msess\u001b[0m\u001b[0;34m.\u001b[0m\u001b[0mgraph\u001b[0m\u001b[0;34m.\u001b[0m\u001b[0mas_default\u001b[0m\u001b[0;34m(\u001b[0m\u001b[0;34m)\u001b[0m\u001b[0;34m\u001b[0m\u001b[0;34m\u001b[0m\u001b[0m\n\u001b[1;32m     11\u001b[0m     \u001b[0mtf\u001b[0m\u001b[0;34m.\u001b[0m\u001b[0mimport_graph_def\u001b[0m\u001b[0;34m(\u001b[0m\u001b[0mgraph_def\u001b[0m\u001b[0;34m,\u001b[0m \u001b[0mname\u001b[0m\u001b[0;34m=\u001b[0m\u001b[0;34m''\u001b[0m\u001b[0;34m)\u001b[0m\u001b[0;34m\u001b[0m\u001b[0;34m\u001b[0m\u001b[0m\n",
      "\u001b[0;31mDecodeError\u001b[0m: Error parsing message"
     ]
    }
   ],
   "source": [
    "import tensorflow as tf\n",
    "from tensorflow.python.platform import gfile\n",
    "from pprint import pprint\n",
    "GRAPH_PB_PATH = '/root/projects/description2sql/notebooks/Models/models/agg/1/saved_model.pb'\n",
    "with tf.Session() as sess:\n",
    "    print(\"load graph\")\n",
    "    with gfile.FastGFile(GRAPH_PB_PATH, 'rb') as f:\n",
    "        graph_def = tf.GraphDef()\n",
    "    graph_def.ParseFromString(f.read())\n",
    "    sess.graph.as_default()\n",
    "    tf.import_graph_def(graph_def, name='')\n",
    "    graph_nodes = [n for n in graph_def.node]\n",
    "    names = [t.name for t in graph_nodes]\n",
    "    pprint(names)"
   ]
  },
  {
   "cell_type": "code",
   "execution_count": 3,
   "metadata": {},
   "outputs": [
    {
     "name": "stdout",
     "output_type": "stream",
     "text": [
      "saved_model.pb\tvariables\n"
     ]
    }
   ],
   "source": [
    "!ls /root/projects/description2sql/notebooks/Models/models/agg/1"
   ]
  },
  {
   "cell_type": "code",
   "execution_count": 5,
   "metadata": {},
   "outputs": [],
   "source": [
    "!export PROTOCOL_BUFFERS_PYTHON_IMPLEMENTATION=python"
   ]
  },
  {
   "cell_type": "code",
   "execution_count": 6,
   "metadata": {},
   "outputs": [
    {
     "ename": "SyntaxError",
     "evalue": "invalid syntax (<ipython-input-6-436d41b4ad91>, line 1)",
     "output_type": "error",
     "traceback": [
      "\u001b[0;36m  File \u001b[0;32m\"<ipython-input-6-436d41b4ad91>\"\u001b[0;36m, line \u001b[0;32m1\u001b[0m\n\u001b[0;31m    export PROTOCOL_BUFFERS_PYTHON_IMPLEMENTATION=python\u001b[0m\n\u001b[0m                                                ^\u001b[0m\n\u001b[0;31mSyntaxError\u001b[0m\u001b[0;31m:\u001b[0m invalid syntax\n"
     ]
    }
   ],
   "source": [
    "export PROTOCOL_BUFFERS_PYTHON_IMPLEMENTATION=python"
   ]
  },
  {
   "cell_type": "code",
   "execution_count": null,
   "metadata": {},
   "outputs": [],
   "source": []
  }
 ],
 "metadata": {
  "kernelspec": {
   "display_name": "tf_nlp",
   "language": "python",
   "name": "tf_nlp"
  },
  "language_info": {
   "codemirror_mode": {
    "name": "ipython",
    "version": 3
   },
   "file_extension": ".py",
   "mimetype": "text/x-python",
   "name": "python",
   "nbconvert_exporter": "python",
   "pygments_lexer": "ipython3",
   "version": "3.6.8"
  }
 },
 "nbformat": 4,
 "nbformat_minor": 2
}
