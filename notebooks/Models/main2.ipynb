{
 "cells": [
  {
   "cell_type": "code",
   "execution_count": 5,
   "metadata": {},
   "outputs": [],
   "source": [
    "test_data = [\n",
    "    {\n",
    "        \"header\": [\n",
    "            \"Country\",\n",
    "            \"Interview\",\n",
    "            \"Suit\",\n",
    "            \"Gown\",\n",
    "            \"Average\"\n",
    "        ],\n",
    "        \"page_title\": \"Miss Teen USA 1997\",\n",
    "        \"types\": [\"text\", \"text\", \"text\", \"text\", \"text\"],\n",
    "        \"id\": \"Pageant\",\n",
    "        \"section_title\": \"Final competition scores\",\n",
    "        \"caption\": \"Final competition scores\",\n",
    "        \"rows\": [\n",
    "            [\"Tennessee\", \"74\", \"75\", \"75\", \"75\"],\n",
    "            [\"Illinois\", \"60\", \"67\", \"75\", \"67\"],\n",
    "            [\"Kansas\", \"55\", \"59\", \"70\", \"61\"],\n",
    "            [\"North Carolina\", \"55\", \"61\", \"54\", \"57\"],\n",
    "            [\"Oklahoma\", \"60\", \"57\", \"46\", \"54\"],\n",
    "            [\"Hawaii\", \"40\", \"51\", \"64\", \"52\"],\n",
    "            [\"Virginia\", \"50\", \"33\", \"58\", \"47\"],\n",
    "            [\"North Dakota\", \"40\", \"32\", \"60\", \"44\"],\n",
    "            [\"Massachusetts\", \"36\", \"42\", \"47\", \"42\"]\n",
    "        ],\n",
    "        \"name\": \"table_11884814_3\",\n",
    "        \"questions\": [\n",
    "            {\n",
    "                \"phase\": 1,\n",
    "                \"table_id\": \"1-11884814-3\",\n",
    "                \"question\": \"What is the number of gown when the suit was bigger than 61?\",\n",
    "                \"sql\": { \"sel\": 3, \"conds\": [[\"Suit\", 0, \"61\"]], \"agg\": 0 }\n",
    "            },\n",
    "            {\n",
    "                \"phase\": 1,\n",
    "                \"table_id\": \"1-11884814-3\",\n",
    "                \"question\": \"What is the total suit when the interview was 74?\",\n",
    "                \"sql\": { \"sel\": 2, \"conds\": [[\"Interview\", 0, \"74\"]], \"agg\": 0 }\n",
    "            },\n",
    "            {\n",
    "                \"phase\": 1,\n",
    "                \"table_id\": \"1-11884814-3\",\n",
    "                \"question\": \"Which country had an interview of 40 and average of 44?\",\n",
    "                \"sql\": {\n",
    "                    \"sel\": 0,\n",
    "                    \"conds\": [[\"interview\", 0, \"9.40\"], [\"average\", 0, \"44\"]],\n",
    "                    \"agg\": 0\n",
    "                }\n",
    "            },\n",
    "            {\n",
    "                \"phase\": 1,\n",
    "                \"table_id\": \"1-11884814-3\",\n",
    "                \"question\": \"Which country had the suit is 67?\",\n",
    "                \"sql\": { \"sel\": 0, \"conds\": [[\"suit\", 0, \"67\"]], \"agg\": 0 }\n",
    "            },\n",
    "            {\n",
    "                \"phase\": 1,\n",
    "                \"table_id\": \"1-11884814-3\",\n",
    "                \"question\": \"What was the average for the country when the suit is 57?\",\n",
    "                \"sql\": { \"sel\": 4, \"conds\": [[\"suit\", 0, \"57\"]], \"agg\": 0 }\n",
    "            }\n",
    "        ]\n",
    "    }\n",
    "]"
   ]
  },
  {
   "cell_type": "code",
   "execution_count": 6,
   "metadata": {},
   "outputs": [],
   "source": [
    "from utils.consts import *\n",
    "\n",
    "from utils.utilities import (\n",
    "    get_json_data, get_subjs, get_agg_input_vector,\n",
    "    get_where_cond_val, get_cond_op_input_vector)\n",
    "\n",
    "from utils.predict import Predict, get_where_col\n",
    "from utils.agg_predict import PredictAgg\n",
    "from utils.op_predict import PredictCond\n",
    "\n",
    "import pickle\n",
    "import json\n",
    "from pprint import pprint\n",
    "import tensorflow as tf\n",
    "tf.logging.set_verbosity(tf.logging.WARN)\n",
    "import numpy as np\n",
    "\n",
    "import spacy\n",
    "PIPE = spacy.load('en_core_web_lg')\n",
    "# PIPE = spacy.load('en_coref_lg')"
   ]
  },
  {
   "cell_type": "code",
   "execution_count": 8,
   "metadata": {},
   "outputs": [
    {
     "name": "stdout",
     "output_type": "stream",
     "text": [
      "\n",
      "================================================\n",
      "\n",
      "What was the average for the country when the suit is 57?\n"
     ]
    },
    {
     "ename": "IndexError",
     "evalue": "list index out of range",
     "output_type": "error",
     "traceback": [
      "\u001b[0;31m---------------------------------------------------------------------------\u001b[0m",
      "\u001b[0;31mIndexError\u001b[0m                                Traceback (most recent call last)",
      "\u001b[0;32m<ipython-input-8-fbb6d494b3bf>\u001b[0m in \u001b[0;36m<module>\u001b[0;34m\u001b[0m\n\u001b[1;32m      9\u001b[0m \u001b[0mprint\u001b[0m\u001b[0;34m(\u001b[0m\u001b[0meach_d\u001b[0m\u001b[0;34m[\u001b[0m\u001b[0;34m'question'\u001b[0m\u001b[0;34m]\u001b[0m\u001b[0;34m)\u001b[0m\u001b[0;34m\u001b[0m\u001b[0;34m\u001b[0m\u001b[0m\n\u001b[1;32m     10\u001b[0m \u001b[0mp1\u001b[0m \u001b[0;34m=\u001b[0m \u001b[0mPredict\u001b[0m\u001b[0;34m(\u001b[0m\u001b[0;34m\"how many gown were there?\"\u001b[0m\u001b[0;34m,\u001b[0m \u001b[0mPIPE\u001b[0m\u001b[0;34m,\u001b[0m \u001b[0meach_d\u001b[0m\u001b[0;34m)\u001b[0m\u001b[0;34m\u001b[0m\u001b[0;34m\u001b[0m\u001b[0m\n\u001b[0;32m---> 11\u001b[0;31m \u001b[0mquery\u001b[0m \u001b[0;34m=\u001b[0m \u001b[0mp1\u001b[0m\u001b[0;34m.\u001b[0m\u001b[0mprocess_question\u001b[0m\u001b[0;34m(\u001b[0m\u001b[0;34m\"Pageant\"\u001b[0m\u001b[0;34m)\u001b[0m\u001b[0;34m\u001b[0m\u001b[0;34m\u001b[0m\u001b[0m\n\u001b[0m\u001b[1;32m     12\u001b[0m \u001b[0mprint\u001b[0m\u001b[0;34m(\u001b[0m\u001b[0mquery\u001b[0m\u001b[0;34m)\u001b[0m\u001b[0;34m\u001b[0m\u001b[0;34m\u001b[0m\u001b[0m\n\u001b[1;32m     13\u001b[0m \u001b[0;31m#     except Exception:\u001b[0m\u001b[0;34m\u001b[0m\u001b[0;34m\u001b[0m\u001b[0;34m\u001b[0m\u001b[0m\n",
      "\u001b[0;32m~/projects/description2sql/notebooks/Models/utils/predict.py\u001b[0m in \u001b[0;36mprocess_question\u001b[0;34m(self, table_name, madeup)\u001b[0m\n\u001b[1;32m     50\u001b[0m \u001b[0;34m\u001b[0m\u001b[0m\n\u001b[1;32m     51\u001b[0m \u001b[0;34m\u001b[0m\u001b[0m\n\u001b[0;32m---> 52\u001b[0;31m         \u001b[0mself\u001b[0m\u001b[0;34m.\u001b[0m\u001b[0mcond_val\u001b[0m \u001b[0;34m=\u001b[0m \u001b[0;34m(\u001b[0m\u001b[0mget_where_cond_val\u001b[0m\u001b[0;34m(\u001b[0m\u001b[0mdoc\u001b[0m\u001b[0;34m)\u001b[0m\u001b[0;34m)\u001b[0m\u001b[0;34m.\u001b[0m\u001b[0mtext\u001b[0m\u001b[0;34m\u001b[0m\u001b[0;34m\u001b[0m\u001b[0m\n\u001b[0m\u001b[1;32m     53\u001b[0m         \u001b[0mX_cond_op\u001b[0m \u001b[0;34m=\u001b[0m \u001b[0mget_cond_op_input_vector\u001b[0m\u001b[0;34m(\u001b[0m\u001b[0mdoc\u001b[0m\u001b[0;34m)\u001b[0m\u001b[0;34m\u001b[0m\u001b[0;34m\u001b[0m\u001b[0m\n\u001b[1;32m     54\u001b[0m \u001b[0;34m\u001b[0m\u001b[0m\n",
      "\u001b[0;32m~/projects/description2sql/notebooks/Models/utils/utilities.py\u001b[0m in \u001b[0;36mget_where_cond_val\u001b[0;34m(doc)\u001b[0m\n\u001b[1;32m    321\u001b[0m \u001b[0;32mdef\u001b[0m \u001b[0mget_where_cond_val\u001b[0m\u001b[0;34m(\u001b[0m\u001b[0mdoc\u001b[0m\u001b[0;34m)\u001b[0m\u001b[0;34m:\u001b[0m\u001b[0;34m\u001b[0m\u001b[0;34m\u001b[0m\u001b[0m\n\u001b[1;32m    322\u001b[0m     \u001b[0mcandis\u001b[0m \u001b[0;34m=\u001b[0m \u001b[0mget_num\u001b[0m\u001b[0;34m(\u001b[0m\u001b[0mdoc\u001b[0m\u001b[0;34m)\u001b[0m\u001b[0;34m\u001b[0m\u001b[0;34m\u001b[0m\u001b[0m\n\u001b[0;32m--> 323\u001b[0;31m     \u001b[0;32mreturn\u001b[0m \u001b[0mcandis\u001b[0m\u001b[0;34m[\u001b[0m\u001b[0;36m0\u001b[0m\u001b[0;34m]\u001b[0m\u001b[0;34m\u001b[0m\u001b[0;34m\u001b[0m\u001b[0m\n\u001b[0m\u001b[1;32m    324\u001b[0m \u001b[0;34m\u001b[0m\u001b[0m\n\u001b[1;32m    325\u001b[0m \u001b[0;32mdef\u001b[0m \u001b[0mget_verbs_other_than_root\u001b[0m\u001b[0;34m(\u001b[0m\u001b[0mdoc\u001b[0m\u001b[0;34m)\u001b[0m\u001b[0;34m:\u001b[0m\u001b[0;34m\u001b[0m\u001b[0;34m\u001b[0m\u001b[0m\n",
      "\u001b[0;31mIndexError\u001b[0m: list index out of range"
     ]
    }
   ],
   "source": [
    "data = test_data\n",
    "\n",
    "# a = get_where_col(PIPE(data[0]['questions'][0]['question']))\n",
    "\n",
    "# count = 0\n",
    "# for each_d in data[0]['questions']:\n",
    "#     try:\n",
    "print(\"\\n================================================\\n\")\n",
    "print(each_d['question'])\n",
    "p1 = Predict(\"how many gown were there?\", PIPE, each_d)\n",
    "query = p1.process_question(\"Pageant\")\n",
    "print(query)\n",
    "#     except Exception:\n",
    "#         pass"
   ]
  },
  {
   "cell_type": "code",
   "execution_count": 4,
   "metadata": {},
   "outputs": [
    {
     "data": {
      "text/plain": [
       "[suit]"
      ]
     },
     "execution_count": 4,
     "metadata": {},
     "output_type": "execute_result"
    }
   ],
   "source": [
    "a"
   ]
  },
  {
   "cell_type": "code",
   "execution_count": null,
   "metadata": {},
   "outputs": [],
   "source": []
  }
 ],
 "metadata": {
  "kernelspec": {
   "display_name": "tf_nlp",
   "language": "python",
   "name": "tf_nlp"
  },
  "language_info": {
   "codemirror_mode": {
    "name": "ipython",
    "version": 3
   },
   "file_extension": ".py",
   "mimetype": "text/x-python",
   "name": "python",
   "nbconvert_exporter": "python",
   "pygments_lexer": "ipython3",
   "version": "3.6.8"
  }
 },
 "nbformat": 4,
 "nbformat_minor": 2
}
