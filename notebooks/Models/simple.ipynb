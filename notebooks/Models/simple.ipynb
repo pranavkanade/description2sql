{
 "cells": [
  {
   "cell_type": "code",
   "execution_count": 1,
   "metadata": {},
   "outputs": [],
   "source": [
    "import tensorflow as tf\n",
    "# from tensorflow.examples.tutorials.mnist import input_data\n",
    "# mnist = input_data.read_data_sets(\"MNIST_data/\", one_hot=True)"
   ]
  },
  {
   "cell_type": "code",
   "execution_count": 2,
   "metadata": {},
   "outputs": [],
   "source": [
    "import numpy as np\n",
    "import pickle"
   ]
  },
  {
   "cell_type": "code",
   "execution_count": 3,
   "metadata": {},
   "outputs": [],
   "source": [
    "n_input = 1500\n",
    "n_hidden1 = 1024\n",
    "n_hidden2 = 512\n",
    "n_hidden3 = 64\n",
    "n_output = 6"
   ]
  },
  {
   "cell_type": "code",
   "execution_count": 4,
   "metadata": {},
   "outputs": [],
   "source": [
    "learning_rate = 1e-4\n",
    "n_iteration = 101\n",
    "batch_size = 128\n",
    "dropout = 0.1"
   ]
  },
  {
   "cell_type": "code",
   "execution_count": 5,
   "metadata": {},
   "outputs": [],
   "source": [
    "X = tf.placeholder(\"float\", [None, n_input])\n",
    "Y = tf.placeholder(\"float\", [None, n_output])\n",
    "# keep_prob = tf.placeholder(tf.float32) # used to control the dropout rate"
   ]
  },
  {
   "cell_type": "code",
   "execution_count": 20,
   "metadata": {},
   "outputs": [],
   "source": [
    "weights = {\n",
    "    'w1': tf.Variable(tf.truncated_normal([n_input, n_hidden1], stddev=0.1)),\n",
    "    'w2': tf.Variable(tf.truncated_normal([n_hidden1, n_hidden2], stddev=0.1)),\n",
    "    'w3': tf.Variable(tf.truncated_normal([n_hidden2, n_hidden3], stddev=0.1)),\n",
    "    'out': tf.Variable(tf.truncated_normal([n_hidden3, n_output], stddev=0.1))\n",
    "}"
   ]
  },
  {
   "cell_type": "code",
   "execution_count": 21,
   "metadata": {},
   "outputs": [],
   "source": [
    "biases = {\n",
    "    'b1': tf.Variable(tf.constant(0.1, shape=[n_hidden1])),\n",
    "    'b2': tf.Variable(tf.constant(0.1, shape=[n_hidden2])),\n",
    "    'b3': tf.Variable(tf.constant(0.1, shape=[n_hidden3])),\n",
    "    'out': tf.Variable(tf.constant(0.1, shape=[n_output]))\n",
    "}"
   ]
  },
  {
   "cell_type": "code",
   "execution_count": 22,
   "metadata": {},
   "outputs": [],
   "source": [
    "layer_1 = tf.add(tf.matmul(X, weights['w1']), biases['b1'])\n",
    "layer_2 = tf.add(tf.matmul(layer_1, weights['w2']), biases['b2'])\n",
    "layer_3 = tf.add(tf.matmul(layer_2, weights['w3']), biases['b3'])\n",
    "# layer_drop = tf.nn.dropout(layer_3, keep_prob)\n",
    "output_layer = tf.add(tf.matmul(layer_3, weights['out']), biases['out'])"
   ]
  },
  {
   "cell_type": "code",
   "execution_count": 23,
   "metadata": {},
   "outputs": [],
   "source": [
    "cross_entropy = tf.reduce_mean(tf.nn.softmax_cross_entropy_with_logits_v2(labels=Y, logits=output_layer))\n",
    "train_step = tf.train.AdamOptimizer(learning_rate).minimize(cross_entropy)"
   ]
  },
  {
   "cell_type": "code",
   "execution_count": 24,
   "metadata": {},
   "outputs": [],
   "source": [
    "correct_pred = tf.equal(tf.argmax(output_layer, 1), tf.argmax(Y, 1))\n",
    "accuracy = tf.reduce_mean(tf.cast(correct_pred, tf.float32))"
   ]
  },
  {
   "cell_type": "code",
   "execution_count": 25,
   "metadata": {},
   "outputs": [],
   "source": [
    "init = tf.global_variables_initializer()\n",
    "sess = tf.Session()\n",
    "sess.run(init)"
   ]
  },
  {
   "cell_type": "code",
   "execution_count": 26,
   "metadata": {},
   "outputs": [],
   "source": [
    "def get_data(cat):\n",
    "    with open(cat+'_agg_Y.pkl', 'rb') as fy:\n",
    "        _Y = pickle.load(fy)\n",
    "\n",
    "    with open(cat+'_agg_X.pkl', 'rb') as fx:\n",
    "        _X = pickle.load(fx)\n",
    "    return (_X, _Y)"
   ]
  },
  {
   "cell_type": "code",
   "execution_count": 27,
   "metadata": {},
   "outputs": [],
   "source": [
    "dev_X, dev_Y = get_data('train')"
   ]
  },
  {
   "cell_type": "code",
   "execution_count": 28,
   "metadata": {},
   "outputs": [],
   "source": [
    "def get_batch(idx, batch_size):\n",
    "    lw = idx * batch_size\n",
    "    hs = lw + batch_size\n",
    "    if hs < len(dev_X):\n",
    "        return (dev_X[lw:hs][:], dev_Y[lw:hs][:])\n",
    "    else:\n",
    "        return (dev_X[lw:][:], dev_Y[lw:][:])"
   ]
  },
  {
   "cell_type": "code",
   "execution_count": 29,
   "metadata": {},
   "outputs": [],
   "source": [
    "n_batches = len(dev_X)//batch_size"
   ]
  },
  {
   "cell_type": "code",
   "execution_count": 30,
   "metadata": {},
   "outputs": [
    {
     "name": "stdout",
     "output_type": "stream",
     "text": [
      "Iteration 0 \t| Batch 127 \t| Loss = 0.89512557 \t| Accuracy = 0.72727275\n",
      "Iteration 5 \t| Batch 127 \t| Loss = 0.57541007 \t| Accuracy = 0.7878788\n",
      "Iteration 10 \t| Batch 127 \t| Loss = 0.54573834 \t| Accuracy = 0.8080808\n",
      "Iteration 15 \t| Batch 127 \t| Loss = 0.53418946 \t| Accuracy = 0.8080808\n",
      "Iteration 20 \t| Batch 127 \t| Loss = 0.52710944 \t| Accuracy = 0.7979798\n",
      "Iteration 25 \t| Batch 127 \t| Loss = 0.522704 \t| Accuracy = 0.7979798\n",
      "Iteration 30 \t| Batch 127 \t| Loss = 0.51908237 \t| Accuracy = 0.7777778\n",
      "Iteration 35 \t| Batch 127 \t| Loss = 0.5157165 \t| Accuracy = 0.7878788\n",
      "Iteration 40 \t| Batch 127 \t| Loss = 0.51239306 \t| Accuracy = 0.7979798\n",
      "Iteration 45 \t| Batch 127 \t| Loss = 0.5091702 \t| Accuracy = 0.7979798\n",
      "Iteration 50 \t| Batch 127 \t| Loss = 0.50617635 \t| Accuracy = 0.8080808\n",
      "Iteration 55 \t| Batch 127 \t| Loss = 0.50349355 \t| Accuracy = 0.8080808\n",
      "Iteration 60 \t| Batch 127 \t| Loss = 0.50112236 \t| Accuracy = 0.8181818\n",
      "Iteration 65 \t| Batch 127 \t| Loss = 0.4989967 \t| Accuracy = 0.8181818\n",
      "Iteration 70 \t| Batch 127 \t| Loss = 0.4970276 \t| Accuracy = 0.8181818\n",
      "Iteration 75 \t| Batch 127 \t| Loss = 0.49514353 \t| Accuracy = 0.8181818\n",
      "Iteration 80 \t| Batch 127 \t| Loss = 0.49331155 \t| Accuracy = 0.8181818\n",
      "Iteration 85 \t| Batch 127 \t| Loss = 0.49153027 \t| Accuracy = 0.8181818\n",
      "Iteration 90 \t| Batch 127 \t| Loss = 0.48980924 \t| Accuracy = 0.8181818\n",
      "Iteration 95 \t| Batch 127 \t| Loss = 0.48815936 \t| Accuracy = 0.82828283\n",
      "Iteration 100 \t| Batch 127 \t| Loss = 0.4865628 \t| Accuracy = 0.82828283\n"
     ]
    }
   ],
   "source": [
    "# train on mini batches\n",
    "for i in range(n_iteration):\n",
    "    for j in range(n_batches+1):\n",
    "        (batch_x, batch_y) = get_batch(j, batch_size)\n",
    "        sess.run(train_step, feed_dict={X: batch_x, Y: batch_y})\n",
    "        \n",
    "        # print loss and accuracy (per minibatch)\n",
    "    if i % 5 == 0:\n",
    "        minibatch_loss, minibatch_accuracy = sess.run([cross_entropy, accuracy], feed_dict={X: batch_x, Y: batch_y})\n",
    "        print(\"Iteration\", str(i), \"\\t| Batch\", str(j), \"\\t| Loss =\", str(minibatch_loss), \"\\t| Accuracy =\", str(minibatch_accuracy))"
   ]
  },
  {
   "cell_type": "code",
   "execution_count": 31,
   "metadata": {},
   "outputs": [
    {
     "name": "stdout",
     "output_type": "stream",
     "text": [
      "\n",
      "Accuracy on test set :  0.7513765\n"
     ]
    }
   ],
   "source": [
    "test_X, test_Y = get_data('test')\n",
    "\n",
    "test_accuracy = sess.run(accuracy, feed_dict={X: test_X, Y: test_Y})\n",
    "print(\"\\nAccuracy on test set : \", test_accuracy)"
   ]
  },
  {
   "cell_type": "code",
   "execution_count": null,
   "metadata": {},
   "outputs": [],
   "source": []
  }
 ],
 "metadata": {
  "kernelspec": {
   "display_name": "sql_nlp",
   "language": "python",
   "name": "sql_nlp"
  },
  "language_info": {
   "codemirror_mode": {
    "name": "ipython",
    "version": 3
   },
   "file_extension": ".py",
   "mimetype": "text/x-python",
   "name": "python",
   "nbconvert_exporter": "python",
   "pygments_lexer": "ipython3",
   "version": "3.6.8"
  }
 },
 "nbformat": 4,
 "nbformat_minor": 2
}
