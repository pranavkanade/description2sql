{
 "cells": [
  {
   "cell_type": "code",
   "execution_count": 33,
   "metadata": {},
   "outputs": [],
   "source": [
    "import copy\n",
    "import numpy as np\n",
    "\n",
    "np.random.seed(0)"
   ]
  },
  {
   "cell_type": "code",
   "execution_count": 34,
   "metadata": {},
   "outputs": [],
   "source": [
    "def sigmoid(x):\n",
    "    output = 1/(1+np.exp(-x))\n",
    "    return output"
   ]
  },
  {
   "cell_type": "code",
   "execution_count": 35,
   "metadata": {},
   "outputs": [],
   "source": [
    "def sigmoid_output_to_derivative(output):\n",
    "    return output*(1-output)"
   ]
  },
  {
   "cell_type": "code",
   "execution_count": 36,
   "metadata": {},
   "outputs": [],
   "source": [
    "# training dataset generation\n",
    "\n",
    "int2binary = {}\n",
    "binary_dim = 8\n",
    "\n",
    "largest_number = pow(2, binary_dim)\n",
    "binary = np.unpackbits(np.array([range(largest_number)], dtype=np.uint8).T, axis=1)\n",
    "\n",
    "for i in range(largest_number):\n",
    "    int2binary[i] = binary[i]"
   ]
  },
  {
   "cell_type": "code",
   "execution_count": 37,
   "metadata": {},
   "outputs": [],
   "source": [
    "# input variables\n",
    "alpha = 0.1\n",
    "input_dim = 2\n",
    "hidden_dim = 16\n",
    "output_dim = 1\n",
    "\n",
    "# initialize neural network weights\n",
    "synapse_0 = 2 * np.random.random((input_dim, hidden_dim)) - 1\n",
    "synapse_1 = 2 * np.random.random((hidden_dim, output_dim)) - 1\n",
    "synapse_h = 2 * np.random.random((hidden_dim, hidden_dim)) - 1\n",
    "\n",
    "\n",
    "synapse_0_update = np.zeros_like(synapse_0)\n",
    "synapse_1_update = np.zeros_like(synapse_1)\n",
    "synapse_h_update = np.zeros_like(synapse_h)\n"
   ]
  },
  {
   "cell_type": "code",
   "execution_count": 38,
   "metadata": {},
   "outputs": [],
   "source": [
    "TestX = list()\n",
    "TestY = list()"
   ]
  },
  {
   "cell_type": "code",
   "execution_count": 40,
   "metadata": {},
   "outputs": [
    {
     "name": "stdout",
     "output_type": "stream",
     "text": [
      "Error : [3.94471861]\n",
      "Pred  : [0 0 0 0 0 0 0 0]\n",
      "True  : [1 1 0 0 1 0 1 0]\n",
      "91 + 111 = 0\n",
      "-----------------------------------\n",
      "Error : [3.83932294]\n",
      "Pred  : [1 1 1 1 1 1 1 1]\n",
      "True  : [0 1 0 0 1 1 1 1]\n",
      "53 + 26 = 255\n",
      "-----------------------------------\n",
      "Error : [4.14569876]\n",
      "Pred  : [0 0 0 0 0 0 0 0]\n",
      "True  : [1 1 0 1 0 1 1 0]\n",
      "90 + 124 = 0\n",
      "-----------------------------------\n",
      "Error : [4.00058902]\n",
      "Pred  : [1 1 1 1 1 0 1 1]\n",
      "True  : [1 1 1 0 1 1 0 0]\n",
      "109 + 127 = 251\n",
      "-----------------------------------\n",
      "Error : [3.8681077]\n",
      "Pred  : [1 1 0 0 0 1 1 0]\n",
      "True  : [1 0 1 1 0 1 0 0]\n",
      "123 + 57 = 198\n",
      "-----------------------------------\n",
      "Error : [1.54919663]\n",
      "Pred  : [0 0 0 1 1 0 1 0]\n",
      "True  : [0 0 0 1 1 0 1 0]\n",
      "5 + 21 = 26\n",
      "-----------------------------------\n",
      "Error : [1.28330145]\n",
      "Pred  : [0 1 0 0 1 1 1 1]\n",
      "True  : [0 1 0 0 1 1 1 1]\n",
      "30 + 49 = 79\n",
      "-----------------------------------\n",
      "Error : [1.06995973]\n",
      "Pred  : [1 0 1 1 1 1 1 0]\n",
      "True  : [1 0 1 1 1 1 1 0]\n",
      "87 + 103 = 190\n",
      "-----------------------------------\n",
      "Error : [0.70379477]\n",
      "Pred  : [1 0 0 0 1 1 1 1]\n",
      "True  : [1 0 0 0 1 1 1 1]\n",
      "48 + 95 = 143\n",
      "-----------------------------------\n",
      "Error : [0.3876961]\n",
      "Pred  : [1 1 0 0 0 1 1 0]\n",
      "True  : [1 1 0 0 0 1 1 0]\n",
      "118 + 80 = 198\n",
      "-----------------------------------\n"
     ]
    }
   ],
   "source": [
    "# Training logic\n",
    "for j in range(10000):\n",
    "    \n",
    "    # generate a simple addition problem (a + b = c)\n",
    "    a_int = np.random.randint(largest_number/2) # int version\n",
    "    a = int2binary[a_int] # binary encoding\n",
    "    \n",
    "    b_int = np.random.randint(largest_number/2) # int version\n",
    "    b = int2binary[b_int] # binary encoding\n",
    "    \n",
    "    # true answer\n",
    "    c_int = a_int + b_int\n",
    "    c = int2binary[c_int]\n",
    "    \n",
    "    # where we'll store our best guess (binary encoded)\n",
    "    d = np.zeros_like(c)\n",
    "    \n",
    "    overallError = 0\n",
    "    \n",
    "    layer_2_deltas = list()\n",
    "    layer_1_values = list()\n",
    "    layer_1_values.append(np.zeros(hidden_dim))\n",
    "    \n",
    "    # moving along the positions in the binary encoding\n",
    "    for position in range(binary_dim):\n",
    "        \n",
    "        # generate input and output\n",
    "        X = np.array([[a[binary_dim - position - 1], \n",
    "                       b[binary_dim - position - 1]]])\n",
    "        y = np.array([[c[binary_dim - position - 1]]]).T\n",
    "        \n",
    "        TestX.append(X)\n",
    "        TestY.append(y)\n",
    "        \n",
    "        \n",
    "        # hidden layer (input ~+ prev_hidden)\n",
    "        layer_1 = sigmoid(np.dot(X, synapse_0) + \n",
    "                          np.dot(layer_1_values[-1], synapse_h))\n",
    "        \n",
    "        # output layer (new binary representation)\n",
    "        layer_2 = sigmoid(np.dot(layer_1, synapse_1))\n",
    "        \n",
    "        # did we miss?... if so, by how much?\n",
    "        layer_2_error = y - layer_2\n",
    "        layer_2_deltas.append((layer_2_error) * sigmoid_output_to_derivative(layer_2))\n",
    "        overallError += np.abs(layer_2_error[0])\n",
    "        \n",
    "        # decode estimate so we can print it out\n",
    "        d[binary_dim - position - 1] = np.round(layer_2[0][0])\n",
    "        \n",
    "        # store hidden layer so we can use it in the next timestep\n",
    "        layer_1_values.append(copy.deepcopy(layer_1))\n",
    "        \n",
    "    future_layer_1_delta = np.zeros(hidden_dim)\n",
    "    \n",
    "    for position in range(binary_dim):\n",
    "        \n",
    "        X = np.array([[a[position], b[position]]])\n",
    "        layer_1 = layer_1_values[-position-1]\n",
    "        prev_layer_1 = layer_1_values[-position-2]\n",
    "        \n",
    "        # error at output layer\n",
    "        layer_2_delta = layer_2_deltas[-position-1]\n",
    "        \n",
    "        # error at hidden layer\n",
    "        layer_1_delta = (future_layer_1_delta.dot(synapse_h.T) + \n",
    "                         layer_2_delta.dot(synapse_1.T)) * sigmoid_output_to_derivative(layer_1)\n",
    "            \n",
    "        # let's update all our weights so we can try again\n",
    "        synapse_1_update += np.atleast_2d(layer_1).T.dot(layer_2_delta)\n",
    "        synapse_h_update += np.atleast_2d(prev_layer_1).T.dot(layer_1_delta)\n",
    "        synapse_0_update += X.T.dot(layer_1_delta)\n",
    "        \n",
    "        future_layer_1_delta = layer_1_delta\n",
    "        \n",
    "    synapse_0 += synapse_0_update * alpha\n",
    "    synapse_1 += synapse_1_update * alpha\n",
    "    synapse_h += synapse_h_update * alpha\n",
    "    \n",
    "    synapse_0_update *= 0\n",
    "    synapse_1_update *= 0\n",
    "    synapse_h_update *= 0\n",
    "    \n",
    "    # print out progress\n",
    "    if (j % 1000 == 0):\n",
    "        print(\"Error : \" + str(overallError))\n",
    "        print(\"Pred  : \" + str(d))\n",
    "        print(\"True  : \" + str(c))\n",
    "        out = 0\n",
    "        for index, x in enumerate(reversed(d)):\n",
    "            out += x*pow(2, index)\n",
    "        print(str(a_int) + \" + \" + str(b_int) + \" = \" + str(out))\n",
    "        print(\"-----------------------------------\")"
   ]
  },
  {
   "cell_type": "code",
   "execution_count": 29,
   "metadata": {},
   "outputs": [
    {
     "name": "stdout",
     "output_type": "stream",
     "text": [
      "[[1 0]]\n"
     ]
    }
   ],
   "source": [
    "print(TestX[0])"
   ]
  },
  {
   "cell_type": "code",
   "execution_count": 30,
   "metadata": {},
   "outputs": [
    {
     "name": "stdout",
     "output_type": "stream",
     "text": [
      "[[1]]\n"
     ]
    }
   ],
   "source": [
    "print(TestY[0])"
   ]
  },
  {
   "cell_type": "code",
   "execution_count": 31,
   "metadata": {},
   "outputs": [
    {
     "data": {
      "text/plain": [
       "array([[0.11824594]])"
      ]
     },
     "execution_count": 31,
     "metadata": {},
     "output_type": "execute_result"
    }
   ],
   "source": [
    "layer_2_deltas[0]"
   ]
  },
  {
   "cell_type": "code",
   "execution_count": null,
   "metadata": {},
   "outputs": [],
   "source": []
  }
 ],
 "metadata": {
  "kernelspec": {
   "display_name": "sql_nlp",
   "language": "python",
   "name": "sql_nlp"
  },
  "language_info": {
   "codemirror_mode": {
    "name": "ipython",
    "version": 3
   },
   "file_extension": ".py",
   "mimetype": "text/x-python",
   "name": "python",
   "nbconvert_exporter": "python",
   "pygments_lexer": "ipython3",
   "version": "3.6.8"
  }
 },
 "nbformat": 4,
 "nbformat_minor": 2
}
